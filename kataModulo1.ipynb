{
 "cells": [
  {
   "cell_type": "markdown",
   "source": [
    "# Kata Modulo 1"
   ],
   "metadata": {}
  },
  {
   "cell_type": "markdown",
   "source": [
    "Variables"
   ],
   "metadata": {}
  },
  {
   "cell_type": "code",
   "execution_count": null,
   "source": [
    "sum = 1 + 2 # 3\n",
    "product = sum * 2\n",
    "print(product)"
   ],
   "outputs": [],
   "metadata": {}
  },
  {
   "cell_type": "markdown",
   "source": [
    "Tipos de datos"
   ],
   "metadata": {}
  },
  {
   "cell_type": "code",
   "execution_count": null,
   "source": [
    "# Declaramos la variable\n",
    "distancia_a_alfa_centauri = 4.367\n",
    "\n",
    "# Descubrimos su tipo de dato\n",
    "type(distancia_a_alfa_centauri)"
   ],
   "outputs": [],
   "metadata": {}
  },
  {
   "cell_type": "markdown",
   "source": [
    "Fechas"
   ],
   "metadata": {}
  },
  {
   "cell_type": "code",
   "execution_count": null,
   "source": [
    "# Importamos la biblioteca \n",
    "from datetime import date\n",
    "\n",
    "# Obtenemos la fecha de hoy\n",
    "date.today()\n",
    "\n",
    "# Mostramos la fecha en la consola\n",
    "print(date.today())"
   ],
   "outputs": [],
   "metadata": {}
  },
  {
   "cell_type": "code",
   "execution_count": null,
   "source": [
    "print(\"Today's date is: \" + str(date.today()))"
   ],
   "outputs": [],
   "metadata": {}
  },
  {
   "cell_type": "markdown",
   "source": [
    "Entrada de datos"
   ],
   "metadata": {}
  },
  {
   "cell_type": "code",
   "execution_count": null,
   "source": [
    "print(\"Bienvenido al programa de bienvenida\")\n",
    "name = input(\"Introduzca su nombre: \")\n",
    "print(\"Saludos: \" + name)"
   ],
   "outputs": [],
   "metadata": {}
  },
  {
   "cell_type": "markdown",
   "source": [
    "Trabajar con números"
   ],
   "metadata": {}
  },
  {
   "cell_type": "code",
   "execution_count": 12,
   "source": [
    "print(\"Calculadora\")\n",
    "first_number = input(\"Primer número: \")\n",
    "second_number = input(\"Segundo número: \")\n",
    "print(first_number + second_number) #concatena"
   ],
   "outputs": [
    {
     "output_type": "stream",
     "name": "stdout",
     "text": [
      "Calculadora\n",
      "23\n"
     ]
    }
   ],
   "metadata": {}
  },
  {
   "cell_type": "code",
   "execution_count": 13,
   "source": [
    "print(\"Calculadora\")\n",
    "first_number = int(input(\"Primer número: \"))\n",
    "second_number = int(input(\"Segundo número: \"))\n",
    "print(first_number + second_number) #suma"
   ],
   "outputs": [
    {
     "output_type": "stream",
     "name": "stdout",
     "text": [
      "Calculadora\n",
      "5\n"
     ]
    }
   ],
   "metadata": {}
  }
 ],
 "metadata": {
  "orig_nbformat": 4,
  "language_info": {
   "name": "python",
   "version": "3.10.2",
   "mimetype": "text/x-python",
   "codemirror_mode": {
    "name": "ipython",
    "version": 3
   },
   "pygments_lexer": "ipython3",
   "nbconvert_exporter": "python",
   "file_extension": ".py"
  },
  "kernelspec": {
   "name": "python3",
   "display_name": "Python 3.10.2 64-bit"
  },
  "interpreter": {
   "hash": "aee8b7b246df8f9039afb4144a1f6fd8d2ca17a180786b69acc140d282b71a49"
  }
 },
 "nbformat": 4,
 "nbformat_minor": 2
}